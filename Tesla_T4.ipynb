{
 "cells": [
  {
   "cell_type": "markdown",
   "metadata": {
    "id": "P-68rcKXRJbX"
   },
   "source": [
    "# System features (CPU and GPU)"
   ]
  },
  {
   "cell_type": "code",
   "execution_count": 11,
   "metadata": {
    "colab": {
     "base_uri": "https://localhost:8080/"
    },
    "id": "ypPJWC2QRBdB",
    "outputId": "bda3198a-f8c1-4153-fd52-1b6178361a72"
   },
   "outputs": [
    {
     "name": "stdout",
     "output_type": "stream",
     "text": [
      "Reading package lists... Done\n",
      "Building dependency tree       \n",
      "Reading state information... Done\n",
      "neofetch is already the newest version (3.4.0-1).\n",
      "0 upgraded, 0 newly installed, 0 to remove and 11 not upgraded.\n",
      "\u001b[?25l\u001b[?7l\u001b[0m\u001b[31m\u001b[1m            .-/+oossssoo+/-. \n",
      "        `:+ssssssssssssssssss+:` \n",
      "      -+ssssssssssssssssssyyssss+- \n",
      "    .ossssssssssssssssss\u001b[37m\u001b[0m\u001b[1mdMMMNy\u001b[0m\u001b[31m\u001b[1msssso. \n",
      "   /sssssssssss\u001b[37m\u001b[0m\u001b[1mhdmmNNmmyNMMMMh\u001b[0m\u001b[31m\u001b[1mssssss/ \n",
      "  +sssssssss\u001b[37m\u001b[0m\u001b[1mhm\u001b[0m\u001b[31m\u001b[1myd\u001b[37m\u001b[0m\u001b[1mMMMMMMMNddddy\u001b[0m\u001b[31m\u001b[1mssssssss+ \n",
      " /ssssssss\u001b[37m\u001b[0m\u001b[1mhNMMM\u001b[0m\u001b[31m\u001b[1myh\u001b[37m\u001b[0m\u001b[1mhyyyyhmNMMMNh\u001b[0m\u001b[31m\u001b[1mssssssss/ \n",
      ".ssssssss\u001b[37m\u001b[0m\u001b[1mdMMMNh\u001b[0m\u001b[31m\u001b[1mssssssssss\u001b[37m\u001b[0m\u001b[1mhNMMMd\u001b[0m\u001b[31m\u001b[1mssssssss. \n",
      "+ssss\u001b[37m\u001b[0m\u001b[1mhhhyNMMNy\u001b[0m\u001b[31m\u001b[1mssssssssssss\u001b[37m\u001b[0m\u001b[1myNMMMy\u001b[0m\u001b[31m\u001b[1msssssss+ \n",
      "oss\u001b[37m\u001b[0m\u001b[1myNMMMNyMMh\u001b[0m\u001b[31m\u001b[1mssssssssssssss\u001b[37m\u001b[0m\u001b[1mhmmmh\u001b[0m\u001b[31m\u001b[1mssssssso \n",
      "oss\u001b[37m\u001b[0m\u001b[1myNMMMNyMMh\u001b[0m\u001b[31m\u001b[1msssssssssssssshmmmh\u001b[0m\u001b[31m\u001b[1mssssssso \n",
      "+ssss\u001b[37m\u001b[0m\u001b[1mhhhyNMMNy\u001b[0m\u001b[31m\u001b[1mssssssssssss\u001b[37m\u001b[0m\u001b[1myNMMMy\u001b[0m\u001b[31m\u001b[1msssssss+ \n",
      ".ssssssss\u001b[37m\u001b[0m\u001b[1mdMMMNh\u001b[0m\u001b[31m\u001b[1mssssssssss\u001b[37m\u001b[0m\u001b[1mhNMMMd\u001b[0m\u001b[31m\u001b[1mssssssss. \n",
      " /ssssssss\u001b[37m\u001b[0m\u001b[1mhNMMM\u001b[0m\u001b[31m\u001b[1myh\u001b[37m\u001b[0m\u001b[1mhyyyyhdNMMMNh\u001b[0m\u001b[31m\u001b[1mssssssss/ \n",
      "  +sssssssss\u001b[37m\u001b[0m\u001b[1mdm\u001b[0m\u001b[31m\u001b[1myd\u001b[37m\u001b[0m\u001b[1mMMMMMMMMddddy\u001b[0m\u001b[31m\u001b[1mssssssss+ \n",
      "   /sssssssssss\u001b[37m\u001b[0m\u001b[1mhdmNNNNmyNMMMMh\u001b[0m\u001b[31m\u001b[1mssssss/ \n",
      "    .ossssssssssssssssss\u001b[37m\u001b[0m\u001b[1mdMMMNy\u001b[0m\u001b[31m\u001b[1msssso. \n",
      "      -+sssssssssssssssss\u001b[37m\u001b[0m\u001b[1myyy\u001b[0m\u001b[31m\u001b[1mssss+- \n",
      "        `:+ssssssssssssssssss+:` \n",
      "            .-/+oossssoo+/-. \n",
      "\u001b[20A\u001b[9999999D\u001b[43C\u001b[0m\u001b[1m\u001b[0m\u001b[31m\u001b[1mroot@\u001b[0m\u001b[31m\u001b[1ma1638f08f800\u001b[0m \n",
      "\u001b[43C\u001b[0m-----------------\u001b[0m \n",
      "\u001b[43C\u001b[0m\u001b[31m\u001b[1mOS\u001b[0m\u001b[0m:\u001b[0m Ubuntu 18.04.5 LTS x86_64\u001b[0m \n",
      "\u001b[43C\u001b[0m\u001b[31m\u001b[1mHost\u001b[0m\u001b[0m:\u001b[0m Google Compute Engine\u001b[0m \n",
      "\u001b[43C\u001b[0m\u001b[31m\u001b[1mKernel\u001b[0m\u001b[0m:\u001b[0m 4.19.112+\u001b[0m \n",
      "\u001b[43C\u001b[0m\u001b[31m\u001b[1mUptime\u001b[0m\u001b[0m:\u001b[0m 13 mins\u001b[0m \n",
      "\u001b[43C\u001b[0m\u001b[31m\u001b[1mPackages\u001b[0m\u001b[0m:\u001b[0m 1244\u001b[0m \n",
      "\u001b[43C\u001b[0m\u001b[31m\u001b[1mShell\u001b[0m\u001b[0m:\u001b[0m bash 4.4.20\u001b[0m \n",
      "\u001b[43C\u001b[0m\u001b[31m\u001b[1mTerminal\u001b[0m\u001b[0m:\u001b[0m jupyter-noteboo\u001b[0m \n",
      "\u001b[43C\u001b[0m\u001b[31m\u001b[1mCPU\u001b[0m\u001b[0m:\u001b[0m Intel Xeon (2) @ 2.200GHz\u001b[0m \n",
      "\u001b[43C\u001b[0m\u001b[31m\u001b[1mMemory\u001b[0m\u001b[0m:\u001b[0m 562MiB / 13021MiB\u001b[0m \n",
      "\n",
      "\u001b[43C\u001b[0m\u001b[30m\u001b[40m   \u001b[0m\u001b[31m\u001b[41m   \u001b[0m\u001b[32m\u001b[42m   \u001b[0m\u001b[33m\u001b[43m   \u001b[0m\u001b[34m\u001b[44m   \u001b[0m\u001b[35m\u001b[45m   \u001b[0m\u001b[36m\u001b[46m   \u001b[0m\u001b[37m\u001b[47m   \u001b[0m\n",
      "\n",
      "\n",
      "\u001b[6B\u001b[?25h\u001b[?7h"
     ]
    }
   ],
   "source": [
    "!sudo apt-get install neofetch\n",
    "!neofetch"
   ]
  },
  {
   "cell_type": "code",
   "execution_count": 12,
   "metadata": {
    "colab": {
     "base_uri": "https://localhost:8080/"
    },
    "id": "KAQU5eaKX0DU",
    "outputId": "ecdf55f2-e226-4fdf-f7a1-3d0559312590"
   },
   "outputs": [
    {
     "name": "stdout",
     "output_type": "stream",
     "text": [
      "Mon Nov  9 13:49:04 2020       \n",
      "+-----------------------------------------------------------------------------+\n",
      "| NVIDIA-SMI 455.32.00    Driver Version: 418.67       CUDA Version: 10.1     |\n",
      "|-------------------------------+----------------------+----------------------+\n",
      "| GPU  Name        Persistence-M| Bus-Id        Disp.A | Volatile Uncorr. ECC |\n",
      "| Fan  Temp  Perf  Pwr:Usage/Cap|         Memory-Usage | GPU-Util  Compute M. |\n",
      "|                               |                      |               MIG M. |\n",
      "|===============================+======================+======================|\n",
      "|   0  Tesla T4            Off  | 00000000:00:04.0 Off |                    0 |\n",
      "| N/A   51C    P8    10W /  70W |      0MiB / 15079MiB |      0%      Default |\n",
      "|                               |                      |                 ERR! |\n",
      "+-------------------------------+----------------------+----------------------+\n",
      "                                                                               \n",
      "+-----------------------------------------------------------------------------+\n",
      "| Processes:                                                                  |\n",
      "|  GPU   GI   CI        PID   Type   Process name                  GPU Memory |\n",
      "|        ID   ID                                                   Usage      |\n",
      "|=============================================================================|\n",
      "|  No running processes found                                                 |\n",
      "+-----------------------------------------------------------------------------+\n"
     ]
    }
   ],
   "source": [
    "!nvidia-smi"
   ]
  },
  {
   "cell_type": "code",
   "execution_count": 13,
   "metadata": {
    "colab": {
     "base_uri": "https://localhost:8080/"
    },
    "id": "5IqBBU-nQ352",
    "outputId": "fc66ff36-6ccb-4e74-86c3-18204f781ff3"
   },
   "outputs": [
    {
     "name": "stdout",
     "output_type": "stream",
     "text": [
      "processor\t: 0\n",
      "vendor_id\t: GenuineIntel\n",
      "cpu family\t: 6\n",
      "model\t\t: 79\n",
      "model name\t: Intel(R) Xeon(R) CPU @ 2.20GHz\n",
      "stepping\t: 0\n",
      "microcode\t: 0x1\n",
      "cpu MHz\t\t: 2200.000\n",
      "cache size\t: 56320 KB\n",
      "physical id\t: 0\n",
      "siblings\t: 2\n",
      "core id\t\t: 0\n",
      "cpu cores\t: 1\n",
      "apicid\t\t: 0\n",
      "initial apicid\t: 0\n",
      "fpu\t\t: yes\n",
      "fpu_exception\t: yes\n",
      "cpuid level\t: 13\n",
      "wp\t\t: yes\n",
      "flags\t\t: fpu vme de pse tsc msr pae mce cx8 apic sep mtrr pge mca cmov pat pse36 clflush mmx fxsr sse sse2 ss ht syscall nx pdpe1gb rdtscp lm constant_tsc rep_good nopl xtopology nonstop_tsc cpuid tsc_known_freq pni pclmulqdq ssse3 fma cx16 pcid sse4_1 sse4_2 x2apic movbe popcnt aes xsave avx f16c rdrand hypervisor lahf_lm abm 3dnowprefetch invpcid_single ssbd ibrs ibpb stibp fsgsbase tsc_adjust bmi1 hle avx2 smep bmi2 erms invpcid rtm rdseed adx smap xsaveopt arat md_clear arch_capabilities\n",
      "bugs\t\t: cpu_meltdown spectre_v1 spectre_v2 spec_store_bypass l1tf mds swapgs taa\n",
      "bogomips\t: 4400.00\n",
      "clflush size\t: 64\n",
      "cache_alignment\t: 64\n",
      "address sizes\t: 46 bits physical, 48 bits virtual\n",
      "power management:\n",
      "\n",
      "processor\t: 1\n",
      "vendor_id\t: GenuineIntel\n",
      "cpu family\t: 6\n",
      "model\t\t: 79\n",
      "model name\t: Intel(R) Xeon(R) CPU @ 2.20GHz\n",
      "stepping\t: 0\n",
      "microcode\t: 0x1\n",
      "cpu MHz\t\t: 2200.000\n",
      "cache size\t: 56320 KB\n",
      "physical id\t: 0\n",
      "siblings\t: 2\n",
      "core id\t\t: 0\n",
      "cpu cores\t: 1\n",
      "apicid\t\t: 1\n",
      "initial apicid\t: 1\n",
      "fpu\t\t: yes\n",
      "fpu_exception\t: yes\n",
      "cpuid level\t: 13\n",
      "wp\t\t: yes\n",
      "flags\t\t: fpu vme de pse tsc msr pae mce cx8 apic sep mtrr pge mca cmov pat pse36 clflush mmx fxsr sse sse2 ss ht syscall nx pdpe1gb rdtscp lm constant_tsc rep_good nopl xtopology nonstop_tsc cpuid tsc_known_freq pni pclmulqdq ssse3 fma cx16 pcid sse4_1 sse4_2 x2apic movbe popcnt aes xsave avx f16c rdrand hypervisor lahf_lm abm 3dnowprefetch invpcid_single ssbd ibrs ibpb stibp fsgsbase tsc_adjust bmi1 hle avx2 smep bmi2 erms invpcid rtm rdseed adx smap xsaveopt arat md_clear arch_capabilities\n",
      "bugs\t\t: cpu_meltdown spectre_v1 spectre_v2 spec_store_bypass l1tf mds swapgs taa\n",
      "bogomips\t: 4400.00\n",
      "clflush size\t: 64\n",
      "cache_alignment\t: 64\n",
      "address sizes\t: 46 bits physical, 48 bits virtual\n",
      "power management:\n",
      "\n"
     ]
    }
   ],
   "source": [
    "!cat /proc/cpuinfo"
   ]
  },
  {
   "cell_type": "markdown",
   "metadata": {
    "id": "tcWa3z4qRUvm"
   },
   "source": [
    "## Test 1"
   ]
  },
  {
   "cell_type": "code",
   "execution_count": 15,
   "metadata": {
    "id": "ZFT6ll5RX7yC"
   },
   "outputs": [],
   "source": [
    "import time, torch\n",
    "\n",
    "bas = time.time()\n",
    "\n",
    "a = torch.rand(10000, 10000, device=torch.device(\"cuda\"))\n",
    "b = torch.rand(10000, 10000, device=torch.device(\"cuda\"))\n",
    "c = torch.rand(10000, 10000, device=torch.device(\"cuda\"))\n",
    "d = torch.rand(10000, 10000, device=torch.device(\"cuda\"))\n",
    "\n",
    "\n",
    "for i in range(0,1000):\n",
    "  y = a@b\n",
    "  z = c@d\n",
    "\n",
    "  x = y@z\n",
    "\n",
    "son = time.time()"
   ]
  },
  {
   "cell_type": "code",
   "execution_count": 65,
   "metadata": {
    "colab": {
     "base_uri": "https://localhost:8080/"
    },
    "id": "WuEEnlJ-gTtp",
    "outputId": "e38d1202-d16d-477c-96ab-2a62d20d1788"
   },
   "outputs": [
    {
     "data": {
      "text/plain": [
       "tensor([[6.3077e+10, 6.3017e+10, 6.2942e+10,  ..., 6.3034e+10, 6.2659e+10,\n",
       "         6.3672e+10],\n",
       "        [6.1768e+10, 6.1709e+10, 6.1636e+10,  ..., 6.1726e+10, 6.1359e+10,\n",
       "         6.2350e+10],\n",
       "        [6.1629e+10, 6.1570e+10, 6.1498e+10,  ..., 6.1587e+10, 6.1221e+10,\n",
       "         6.2211e+10],\n",
       "        ...,\n",
       "        [6.2017e+10, 6.1957e+10, 6.1884e+10,  ..., 6.1974e+10, 6.1606e+10,\n",
       "         6.2601e+10],\n",
       "        [6.3193e+10, 6.3133e+10, 6.3058e+10,  ..., 6.3150e+10, 6.2775e+10,\n",
       "         6.3789e+10],\n",
       "        [6.2905e+10, 6.2844e+10, 6.2770e+10,  ..., 6.2861e+10, 6.2488e+10,\n",
       "         6.3498e+10]], device='cuda:0')"
      ]
     },
     "execution_count": 65,
     "metadata": {
      "tags": []
     },
     "output_type": "execute_result"
    }
   ],
   "source": [
    "x"
   ]
  },
  {
   "cell_type": "code",
   "execution_count": 20,
   "metadata": {
    "colab": {
     "base_uri": "https://localhost:8080/",
     "height": 35
    },
    "id": "Oec0NJraYA8W",
    "outputId": "0e212bc5-428e-4adf-e946-147259c1fbe3"
   },
   "outputs": [
    {
     "data": {
      "application/vnd.google.colaboratory.intrinsic+json": {
       "type": "string"
      },
      "text/plain": [
       "'1.test result (second) : 1293.739860534668'"
      ]
     },
     "execution_count": 20,
     "metadata": {
      "tags": []
     },
     "output_type": "execute_result"
    }
   ],
   "source": [
    "\"1.test result (second) : \" + str(son-bas)"
   ]
  },
  {
   "cell_type": "markdown",
   "metadata": {
    "id": "PO9MyfXGYs59"
   },
   "source": [
    "## Test 2"
   ]
  },
  {
   "cell_type": "code",
   "execution_count": 21,
   "metadata": {
    "colab": {
     "base_uri": "https://localhost:8080/"
    },
    "id": "DqpTsL2UZ76a",
    "outputId": "4d29ff29-1537-4481-ebba-ced76f189d89"
   },
   "outputs": [
    {
     "name": "stdout",
     "output_type": "stream",
     "text": [
      "nvcc: NVIDIA (R) Cuda compiler driver\n",
      "Copyright (c) 2005-2019 NVIDIA Corporation\n",
      "Built on Sun_Jul_28_19:07:16_PDT_2019\n",
      "Cuda compilation tools, release 10.1, V10.1.243\n"
     ]
    }
   ],
   "source": [
    "!nvcc --version"
   ]
  },
  {
   "cell_type": "code",
   "execution_count": 22,
   "metadata": {
    "colab": {
     "base_uri": "https://localhost:8080/"
    },
    "id": "niOpQXQFYsLp",
    "outputId": "1e25f846-a606-4b6f-fdd6-0fdd57afab56"
   },
   "outputs": [
    {
     "name": "stdout",
     "output_type": "stream",
     "text": [
      "Collecting git+git://github.com/andreinechaev/nvcc4jupyter.git\n",
      "  Cloning git://github.com/andreinechaev/nvcc4jupyter.git to /tmp/pip-req-build-1mcug2nf\n",
      "  Running command git clone -q git://github.com/andreinechaev/nvcc4jupyter.git /tmp/pip-req-build-1mcug2nf\n",
      "Building wheels for collected packages: NVCCPlugin\n",
      "  Building wheel for NVCCPlugin (setup.py) ... \u001b[?25l\u001b[?25hdone\n",
      "  Created wheel for NVCCPlugin: filename=NVCCPlugin-0.0.2-cp36-none-any.whl size=4307 sha256=9bb504d4afa9e1e8145b439dcd79fa4c048c7f7fca42eda5bdd08e22cf9c4534\n",
      "  Stored in directory: /tmp/pip-ephem-wheel-cache-7ett1rf2/wheels/10/c2/05/ca241da37bff77d60d31a9174f988109c61ba989e4d4650516\n",
      "Successfully built NVCCPlugin\n",
      "Installing collected packages: NVCCPlugin\n",
      "Successfully installed NVCCPlugin-0.0.2\n",
      "created output directory at /content/src\n",
      "Out bin /content/result.out\n"
     ]
    }
   ],
   "source": [
    "!pip install git+git://github.com/andreinechaev/nvcc4jupyter.git\n",
    "%load_ext nvcc_plugin"
   ]
  },
  {
   "cell_type": "code",
   "execution_count": 34,
   "metadata": {
    "colab": {
     "base_uri": "https://localhost:8080/"
    },
    "id": "JtCGavKiY913",
    "outputId": "bff95f92-7ca7-4dc9-abc7-53b0586d494c"
   },
   "outputs": [
    {
     "name": "stdout",
     "output_type": "stream",
     "text": [
      "--2020-11-09 14:36:11--  https://ahmetfurkandemir.s3.amazonaws.com/kernel.cu\n",
      "Resolving ahmetfurkandemir.s3.amazonaws.com (ahmetfurkandemir.s3.amazonaws.com)... 52.216.111.11\n",
      "Connecting to ahmetfurkandemir.s3.amazonaws.com (ahmetfurkandemir.s3.amazonaws.com)|52.216.111.11|:443... connected.\n",
      "HTTP request sent, awaiting response... 200 OK\n",
      "Length: 1155 (1.1K) [application/cu-seeme]\n",
      "Saving to: ‘kernel.cu’\n",
      "\n",
      "\r",
      "kernel.cu             0%[                    ]       0  --.-KB/s               \r",
      "kernel.cu           100%[===================>]   1.13K  --.-KB/s    in 0s      \n",
      "\n",
      "2020-11-09 14:36:11 (74.4 MB/s) - ‘kernel.cu’ saved [1155/1155]\n",
      "\n"
     ]
    }
   ],
   "source": [
    "!wget https://ahmetfurkandemir.s3.amazonaws.com/kernel.cu"
   ]
  },
  {
   "cell_type": "code",
   "execution_count": 35,
   "metadata": {
    "colab": {
     "base_uri": "https://localhost:8080/"
    },
    "id": "qjTMyVzEZkHb",
    "outputId": "42000213-3735-4670-adc6-167e6aa5b5b3"
   },
   "outputs": [
    {
     "name": "stdout",
     "output_type": "stream",
     "text": [
      "#ifndef _DEV_ARRAY_H_\n",
      "#define _DEV_ARRAY_H_\n",
      "\n",
      "#include <stdexcept>\n",
      "#include <algorithm>\n",
      "#include <cuda_runtime.h>\n",
      "\n",
      "template <class T>\n",
      "class dev_array\n",
      "{\n",
      "// public functions\n",
      "public:\n",
      "    explicit dev_array()\n",
      "        : start_(0),\n",
      "          end_(0)\n",
      "    {}\n",
      "\n",
      "    // constructor\n",
      "    explicit dev_array(size_t size)\n",
      "    {\n",
      "        allocate(size);\n",
      "    }\n",
      "    // destructor\n",
      "    ~dev_array()\n",
      "    {\n",
      "        free();\n",
      "    }\n",
      "\n",
      "    // resize the vector\n",
      "    void resize(size_t size)\n",
      "    {\n",
      "        free();\n",
      "        allocate(size);\n",
      "    }\n",
      "\n",
      "    // get the size of the array\n",
      "    size_t getSize() const\n",
      "    {\n",
      "        return end_ - start_;\n",
      "    }\n",
      "\n",
      "    // get data\n",
      "    const T* getData() const\n",
      "    {\n",
      "        return start_;\n",
      "    }\n",
      "\n",
      "    T* getData()\n",
      "    {\n",
      "        return start_;\n",
      "    }\n",
      "\n",
      "    // set\n",
      "    void set(const T* src, size_t size)\n",
      "    {\n",
      "        size_t min = std::min(size, getSize());\n",
      "        cudaError_t result = cudaMemcpy(start_, src, min * sizeof(T), cudaMemcpyHostToDevice);\n",
      "        if (result != cudaSuccess)\n",
      "        {\n",
      "            throw std::runtime_error(\"failed to copy to device memory\");\n",
      "        }\n",
      "    }\n",
      "    // get\n",
      "    void get(T* dest, size_t size)\n",
      "    {\n",
      "        size_t min = std::min(size, getSize());\n",
      "        cudaError_t result = cudaMemcpy(dest, start_, min * sizeof(T), cudaMemcpyDeviceToHost);\n",
      "        if (result != cudaSuccess)\n",
      "        {\n",
      "            throw std::runtime_error(\"failed to copy to host memory\");\n",
      "        }\n",
      "    }\n",
      "\n",
      "\n",
      "// private functions\n",
      "private:\n",
      "    // allocate memory on the device\n",
      "    void allocate(size_t size)\n",
      "    {\n",
      "        cudaError_t result = cudaMalloc((void**)&start_, size * sizeof(T));\n",
      "        if (result != cudaSuccess)\n",
      "        {\n",
      "            start_ = end_ = 0;\n",
      "            throw std::runtime_error(\"failed to allocate device memory\");\n",
      "        }\n",
      "        end_ = start_ + size;\n",
      "    }\n",
      "\n",
      "    // free memory on the device\n",
      "    void free()\n",
      "    {\n",
      "        if (start_ != 0)\n",
      "        {\n",
      "            cudaFree(start_);\n",
      "            start_ = end_ = 0;\n",
      "        }\n",
      "    }\n",
      "\n",
      "    T* start_;\n",
      "    T* end_;\n",
      "};\n",
      "\n",
      "#endif"
     ]
    }
   ],
   "source": [
    "!cat dev_array.h"
   ]
  },
  {
   "cell_type": "code",
   "execution_count": 38,
   "metadata": {
    "colab": {
     "base_uri": "https://localhost:8080/"
    },
    "id": "T2uf7IYhai30",
    "outputId": "f53c6e87-2f92-4b8a-b128-7bbc47901c65"
   },
   "outputs": [
    {
     "name": "stdout",
     "output_type": "stream",
     "text": [
      "--2020-11-09 14:37:28--  https://ahmetfurkandemir.s3.amazonaws.com/dev_array.h\n",
      "Resolving ahmetfurkandemir.s3.amazonaws.com (ahmetfurkandemir.s3.amazonaws.com)... 52.217.104.228\n",
      "Connecting to ahmetfurkandemir.s3.amazonaws.com (ahmetfurkandemir.s3.amazonaws.com)|52.217.104.228|:443... connected.\n",
      "HTTP request sent, awaiting response... 200 OK\n",
      "Length: 1997 (2.0K) [text/x-chdr]\n",
      "Saving to: ‘dev_array.h’\n",
      "\n",
      "dev_array.h         100%[===================>]   1.95K  --.-KB/s    in 0s      \n",
      "\n",
      "2020-11-09 14:37:29 (124 MB/s) - ‘dev_array.h’ saved [1997/1997]\n",
      "\n"
     ]
    }
   ],
   "source": [
    "!wget https://ahmetfurkandemir.s3.amazonaws.com/dev_array.h"
   ]
  },
  {
   "cell_type": "code",
   "execution_count": 39,
   "metadata": {
    "colab": {
     "base_uri": "https://localhost:8080/"
    },
    "id": "FD6zT-uAauvj",
    "outputId": "eb0695f6-b160-4214-bee1-fe33c41e4001"
   },
   "outputs": [
    {
     "name": "stdout",
     "output_type": "stream",
     "text": [
      "#ifndef _DEV_ARRAY_H_\n",
      "#define _DEV_ARRAY_H_\n",
      "\n",
      "#include <stdexcept>\n",
      "#include <algorithm>\n",
      "#include <cuda_runtime.h>\n",
      "\n",
      "template <class T>\n",
      "class dev_array\n",
      "{\n",
      "// public functions\n",
      "public:\n",
      "    explicit dev_array()\n",
      "        : start_(0),\n",
      "          end_(0)\n",
      "    {}\n",
      "\n",
      "    // constructor\n",
      "    explicit dev_array(size_t size)\n",
      "    {\n",
      "        allocate(size);\n",
      "    }\n",
      "    // destructor\n",
      "    ~dev_array()\n",
      "    {\n",
      "        free();\n",
      "    }\n",
      "\n",
      "    // resize the vector\n",
      "    void resize(size_t size)\n",
      "    {\n",
      "        free();\n",
      "        allocate(size);\n",
      "    }\n",
      "\n",
      "    // get the size of the array\n",
      "    size_t getSize() const\n",
      "    {\n",
      "        return end_ - start_;\n",
      "    }\n",
      "\n",
      "    // get data\n",
      "    const T* getData() const\n",
      "    {\n",
      "        return start_;\n",
      "    }\n",
      "\n",
      "    T* getData()\n",
      "    {\n",
      "        return start_;\n",
      "    }\n",
      "\n",
      "    // set\n",
      "    void set(const T* src, size_t size)\n",
      "    {\n",
      "        size_t min = std::min(size, getSize());\n",
      "        cudaError_t result = cudaMemcpy(start_, src, min * sizeof(T), cudaMemcpyHostToDevice);\n",
      "        if (result != cudaSuccess)\n",
      "        {\n",
      "            throw std::runtime_error(\"failed to copy to device memory\");\n",
      "        }\n",
      "    }\n",
      "    // get\n",
      "    void get(T* dest, size_t size)\n",
      "    {\n",
      "        size_t min = std::min(size, getSize());\n",
      "        cudaError_t result = cudaMemcpy(dest, start_, min * sizeof(T), cudaMemcpyDeviceToHost);\n",
      "        if (result != cudaSuccess)\n",
      "        {\n",
      "            throw std::runtime_error(\"failed to copy to host memory\");\n",
      "        }\n",
      "    }\n",
      "\n",
      "\n",
      "// private functions\n",
      "private:\n",
      "    // allocate memory on the device\n",
      "    void allocate(size_t size)\n",
      "    {\n",
      "        cudaError_t result = cudaMalloc((void**)&start_, size * sizeof(T));\n",
      "        if (result != cudaSuccess)\n",
      "        {\n",
      "            start_ = end_ = 0;\n",
      "            throw std::runtime_error(\"failed to allocate device memory\");\n",
      "        }\n",
      "        end_ = start_ + size;\n",
      "    }\n",
      "\n",
      "    // free memory on the device\n",
      "    void free()\n",
      "    {\n",
      "        if (start_ != 0)\n",
      "        {\n",
      "            cudaFree(start_);\n",
      "            start_ = end_ = 0;\n",
      "        }\n",
      "    }\n",
      "\n",
      "    T* start_;\n",
      "    T* end_;\n",
      "};\n",
      "\n",
      "#endif"
     ]
    }
   ],
   "source": [
    "!cat dev_array.h"
   ]
  },
  {
   "cell_type": "code",
   "execution_count": 40,
   "metadata": {
    "colab": {
     "base_uri": "https://localhost:8080/"
    },
    "id": "yxnbB4KWcNap",
    "outputId": "3a3bd86e-c7cc-48c1-81a3-c57637b11566"
   },
   "outputs": [
    {
     "name": "stdout",
     "output_type": "stream",
     "text": [
      "--2020-11-09 14:38:22--  https://ahmetfurkandemir.s3.amazonaws.com/kernel.h\n",
      "Resolving ahmetfurkandemir.s3.amazonaws.com (ahmetfurkandemir.s3.amazonaws.com)... 52.216.101.123\n",
      "Connecting to ahmetfurkandemir.s3.amazonaws.com (ahmetfurkandemir.s3.amazonaws.com)|52.216.101.123|:443... connected.\n",
      "HTTP request sent, awaiting response... 200 OK\n",
      "Length: 112 [text/x-chdr]\n",
      "Saving to: ‘kernel.h’\n",
      "\n",
      "kernel.h            100%[===================>]     112  --.-KB/s    in 0s      \n",
      "\n",
      "2020-11-09 14:38:22 (3.23 MB/s) - ‘kernel.h’ saved [112/112]\n",
      "\n"
     ]
    }
   ],
   "source": [
    "!wget https://ahmetfurkandemir.s3.amazonaws.com/kernel.h"
   ]
  },
  {
   "cell_type": "code",
   "execution_count": 41,
   "metadata": {
    "colab": {
     "base_uri": "https://localhost:8080/"
    },
    "id": "UhyKWDEycZBg",
    "outputId": "d4eb2855-d3f9-4182-ce96-61bd861eff50"
   },
   "outputs": [
    {
     "name": "stdout",
     "output_type": "stream",
     "text": [
      "#ifndef KERNEL_CUH_\n",
      "#define KERNEL_CUH_\n",
      "\n",
      "void matrixMultiplication(float *A, float *B, float *C, int N);\n",
      "\n",
      "#endif"
     ]
    }
   ],
   "source": [
    "!cat kernel.h"
   ]
  },
  {
   "cell_type": "code",
   "execution_count": 82,
   "metadata": {
    "colab": {
     "base_uri": "https://localhost:8080/"
    },
    "id": "8E3tLpFiccF4",
    "outputId": "ae2740fb-8920-498c-b82c-9eb063d5e2cb"
   },
   "outputs": [
    {
     "name": "stdout",
     "output_type": "stream",
     "text": [
      "--2020-11-09 15:07:23--  https://ahmetfurkandemir.s3.amazonaws.com/matrixmul.cu\n",
      "Resolving ahmetfurkandemir.s3.amazonaws.com (ahmetfurkandemir.s3.amazonaws.com)... 52.216.95.35\n",
      "Connecting to ahmetfurkandemir.s3.amazonaws.com (ahmetfurkandemir.s3.amazonaws.com)|52.216.95.35|:443... connected.\n",
      "HTTP request sent, awaiting response... 200 OK\n",
      "Length: 1060 (1.0K) [application/cu-seeme]\n",
      "Saving to: ‘matrixmul.cu’\n",
      "\n",
      "matrixmul.cu        100%[===================>]   1.04K  --.-KB/s    in 0s      \n",
      "\n",
      "2020-11-09 15:07:23 (44.7 MB/s) - ‘matrixmul.cu’ saved [1060/1060]\n",
      "\n"
     ]
    }
   ],
   "source": [
    "!wget https://ahmetfurkandemir.s3.amazonaws.com/matrixmul.cu"
   ]
  },
  {
   "cell_type": "code",
   "execution_count": 83,
   "metadata": {
    "colab": {
     "base_uri": "https://localhost:8080/"
    },
    "id": "VvqxnpBMcpjn",
    "outputId": "1a2b1e6b-7588-4c3d-8154-a729a37ef4d1"
   },
   "outputs": [
    {
     "name": "stdout",
     "output_type": "stream",
     "text": [
      "#include <iostream>\n",
      "#include <vector>\n",
      "#include <stdlib.h>\n",
      "#include <time.h>\n",
      "#include <cuda_runtime.h>\n",
      "#include \"kernel.h\"\n",
      "#include \"kernel.cu\"\n",
      "#include \"dev_array.h\"\n",
      "#include <math.h>\n",
      "#include <stdio.h>\n",
      "\n",
      "using namespace std;\n",
      "\n",
      "int main()\n",
      "{\n",
      "    // Perform matrix multiplication C = A*B\n",
      "    // where A, B and C are NxN matrices\n",
      "    int N = 10000;\n",
      "    int SIZE = N*N;\n",
      "\n",
      "    // Allocate memory on the host\n",
      "    vector<float> h_A(SIZE);\n",
      "    vector<float> h_B(SIZE);\n",
      "    vector<float> h_C(SIZE);\n",
      "\n",
      "    // Initialize matrices on the host\n",
      "    for (int i=0; i<N; i++){\n",
      "        for (int j=0; j<N; j++){\n",
      "            h_A[i*N+j] = sin(i);\n",
      "            h_B[i*N+j] = cos(j);\n",
      "        }\n",
      "    }\n",
      "\n",
      "    // Allocate memory on the device\n",
      "    dev_array<float> d_A(SIZE);\n",
      "    dev_array<float> d_B(SIZE);\n",
      "    dev_array<float> d_C(SIZE);\n",
      "\n",
      "    d_A.set(&h_A[0], SIZE);\n",
      "    d_B.set(&h_B[0], SIZE);\n",
      "\n",
      "    matrixMultiplication(d_A.getData(), d_B.getData(), d_C.getData(), N);\n",
      "    cudaDeviceSynchronize();\n",
      "\n",
      "    d_C.get(&h_C[0], SIZE);\n",
      "    cudaDeviceSynchronize();\n",
      "\n",
      "    printf(\"END\");\n",
      "\n",
      "    return 0;\n",
      "}"
     ]
    }
   ],
   "source": [
    "!cat matrixmul.cu"
   ]
  },
  {
   "cell_type": "code",
   "execution_count": 86,
   "metadata": {
    "id": "JfAJlq6XcsCk"
   },
   "outputs": [],
   "source": [
    "# compilation test\n",
    "bas = time.time()\n",
    "!nvcc matrixmul.cu\n",
    "son = time.time()"
   ]
  },
  {
   "cell_type": "code",
   "execution_count": 87,
   "metadata": {
    "colab": {
     "base_uri": "https://localhost:8080/",
     "height": 35
    },
    "id": "Gvy1BB_acvyJ",
    "outputId": "469575db-1885-4252-9e67-e55a44b7ef49"
   },
   "outputs": [
    {
     "data": {
      "application/vnd.google.colaboratory.intrinsic+json": {
       "type": "string"
      },
      "text/plain": [
       "'2nd test - compilation test result : 1.6754465103149414'"
      ]
     },
     "execution_count": 87,
     "metadata": {
      "tags": []
     },
     "output_type": "execute_result"
    }
   ],
   "source": [
    "\"2. test - compilation test result : \" + str(son-bas)"
   ]
  },
  {
   "cell_type": "code",
   "execution_count": 88,
   "metadata": {
    "colab": {
     "base_uri": "https://localhost:8080/"
    },
    "id": "p6M84fUhhT0-",
    "outputId": "6d072cb2-8d8d-4508-8e2f-105c49a529a9"
   },
   "outputs": [
    {
     "name": "stdout",
     "output_type": "stream",
     "text": [
      "END"
     ]
    }
   ],
   "source": [
    "# run the compiled file, test\n",
    "bas = time.time()\n",
    "!./a.out\n",
    "son = time.time()"
   ]
  },
  {
   "cell_type": "code",
   "execution_count": 90,
   "metadata": {
    "colab": {
     "base_uri": "https://localhost:8080/",
     "height": 35
    },
    "id": "4GEjMPHmhTp7",
    "outputId": "f5c702d1-7c7a-433a-82b1-261db32843b6"
   },
   "outputs": [
    {
     "data": {
      "application/vnd.google.colaboratory.intrinsic+json": {
       "type": "string"
      },
      "text/plain": [
       "'2. test - time to run the compiled file : 8.99604868888855'"
      ]
     },
     "execution_count": 90,
     "metadata": {
      "tags": []
     },
     "output_type": "execute_result"
    }
   ],
   "source": [
    "\"2. test - time to run the compiled file : \"+str(son-bas)"
   ]
  },
  {
   "cell_type": "markdown",
   "metadata": {
    "id": "RBTqDyGydECS"
   },
   "source": [
    "**1. Test Result : 1293.739860534668 (second)**\n",
    "\n",
    "**2. Test Reult - Compile : 1.6754465103149414 (second)**\n",
    "\n",
    "**2. Test Reult - run file : 8.99604868888855 (second)**"
   ]
  }
 ],
 "metadata": {
  "accelerator": "GPU",
  "colab": {
   "name": "Tesla_T4.ipynb",
   "provenance": []
  },
  "kernelspec": {
   "display_name": "Python 3",
   "language": "python",
   "name": "python3"
  },
  "language_info": {
   "codemirror_mode": {
    "name": "ipython",
    "version": 3
   },
   "file_extension": ".py",
   "mimetype": "text/x-python",
   "name": "python",
   "nbconvert_exporter": "python",
   "pygments_lexer": "ipython3",
   "version": "3.7.3"
  }
 },
 "nbformat": 4,
 "nbformat_minor": 1
}
