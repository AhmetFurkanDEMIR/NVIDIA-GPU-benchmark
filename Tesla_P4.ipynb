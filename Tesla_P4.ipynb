{
 "cells": [
  {
   "cell_type": "markdown",
   "metadata": {
    "id": "-I-LsG9Ap8qw"
   },
   "source": [
    "# System features (CPU and GPU)"
   ]
  },
  {
   "cell_type": "code",
   "execution_count": 2,
   "metadata": {
    "colab": {
     "base_uri": "https://localhost:8080/"
    },
    "id": "Gx8djyBXpyax",
    "outputId": "a9d54b3a-b7ff-4a47-9b57-b1383c30dafb"
   },
   "outputs": [
    {
     "name": "stdout",
     "output_type": "stream",
     "text": [
      "Reading package lists... Done\n",
      "Building dependency tree       \n",
      "Reading state information... Done\n",
      "The following NEW packages will be installed:\n",
      "  neofetch\n",
      "0 upgraded, 1 newly installed, 0 to remove and 11 not upgraded.\n",
      "Need to get 74.8 kB of archives.\n",
      "After this operation, 365 kB of additional disk space will be used.\n",
      "Get:1 http://archive.ubuntu.com/ubuntu bionic/universe amd64 neofetch all 3.4.0-1 [74.8 kB]\n",
      "Fetched 74.8 kB in 1s (137 kB/s)\n",
      "debconf: unable to initialize frontend: Dialog\n",
      "debconf: (No usable dialog-like program is installed, so the dialog based frontend cannot be used. at /usr/share/perl5/Debconf/FrontEnd/Dialog.pm line 76, <> line 1.)\n",
      "debconf: falling back to frontend: Readline\n",
      "debconf: unable to initialize frontend: Readline\n",
      "debconf: (This frontend requires a controlling tty.)\n",
      "debconf: falling back to frontend: Teletype\n",
      "dpkg-preconfigure: unable to re-open stdin: \n",
      "Selecting previously unselected package neofetch.\n",
      "(Reading database ... 144628 files and directories currently installed.)\n",
      "Preparing to unpack .../neofetch_3.4.0-1_all.deb ...\n",
      "Unpacking neofetch (3.4.0-1) ...\n",
      "Setting up neofetch (3.4.0-1) ...\n",
      "Processing triggers for man-db (2.8.3-2ubuntu0.1) ...\n",
      "\u001b[?25l\u001b[?7l\u001b[0m\u001b[31m\u001b[1m            .-/+oossssoo+/-. \n",
      "        `:+ssssssssssssssssss+:` \n",
      "      -+ssssssssssssssssssyyssss+- \n",
      "    .ossssssssssssssssss\u001b[37m\u001b[0m\u001b[1mdMMMNy\u001b[0m\u001b[31m\u001b[1msssso. \n",
      "   /sssssssssss\u001b[37m\u001b[0m\u001b[1mhdmmNNmmyNMMMMh\u001b[0m\u001b[31m\u001b[1mssssss/ \n",
      "  +sssssssss\u001b[37m\u001b[0m\u001b[1mhm\u001b[0m\u001b[31m\u001b[1myd\u001b[37m\u001b[0m\u001b[1mMMMMMMMNddddy\u001b[0m\u001b[31m\u001b[1mssssssss+ \n",
      " /ssssssss\u001b[37m\u001b[0m\u001b[1mhNMMM\u001b[0m\u001b[31m\u001b[1myh\u001b[37m\u001b[0m\u001b[1mhyyyyhmNMMMNh\u001b[0m\u001b[31m\u001b[1mssssssss/ \n",
      ".ssssssss\u001b[37m\u001b[0m\u001b[1mdMMMNh\u001b[0m\u001b[31m\u001b[1mssssssssss\u001b[37m\u001b[0m\u001b[1mhNMMMd\u001b[0m\u001b[31m\u001b[1mssssssss. \n",
      "+ssss\u001b[37m\u001b[0m\u001b[1mhhhyNMMNy\u001b[0m\u001b[31m\u001b[1mssssssssssss\u001b[37m\u001b[0m\u001b[1myNMMMy\u001b[0m\u001b[31m\u001b[1msssssss+ \n",
      "oss\u001b[37m\u001b[0m\u001b[1myNMMMNyMMh\u001b[0m\u001b[31m\u001b[1mssssssssssssss\u001b[37m\u001b[0m\u001b[1mhmmmh\u001b[0m\u001b[31m\u001b[1mssssssso \n",
      "oss\u001b[37m\u001b[0m\u001b[1myNMMMNyMMh\u001b[0m\u001b[31m\u001b[1msssssssssssssshmmmh\u001b[0m\u001b[31m\u001b[1mssssssso \n",
      "+ssss\u001b[37m\u001b[0m\u001b[1mhhhyNMMNy\u001b[0m\u001b[31m\u001b[1mssssssssssss\u001b[37m\u001b[0m\u001b[1myNMMMy\u001b[0m\u001b[31m\u001b[1msssssss+ \n",
      ".ssssssss\u001b[37m\u001b[0m\u001b[1mdMMMNh\u001b[0m\u001b[31m\u001b[1mssssssssss\u001b[37m\u001b[0m\u001b[1mhNMMMd\u001b[0m\u001b[31m\u001b[1mssssssss. \n",
      " /ssssssss\u001b[37m\u001b[0m\u001b[1mhNMMM\u001b[0m\u001b[31m\u001b[1myh\u001b[37m\u001b[0m\u001b[1mhyyyyhdNMMMNh\u001b[0m\u001b[31m\u001b[1mssssssss/ \n",
      "  +sssssssss\u001b[37m\u001b[0m\u001b[1mdm\u001b[0m\u001b[31m\u001b[1myd\u001b[37m\u001b[0m\u001b[1mMMMMMMMMddddy\u001b[0m\u001b[31m\u001b[1mssssssss+ \n",
      "   /sssssssssss\u001b[37m\u001b[0m\u001b[1mhdmNNNNmyNMMMMh\u001b[0m\u001b[31m\u001b[1mssssss/ \n",
      "    .ossssssssssssssssss\u001b[37m\u001b[0m\u001b[1mdMMMNy\u001b[0m\u001b[31m\u001b[1msssso. \n",
      "      -+sssssssssssssssss\u001b[37m\u001b[0m\u001b[1myyy\u001b[0m\u001b[31m\u001b[1mssss+- \n",
      "        `:+ssssssssssssssssss+:` \n",
      "            .-/+oossssoo+/-. \n",
      "\u001b[20A\u001b[9999999D\u001b[43C\u001b[0m\u001b[1m\u001b[0m\u001b[31m\u001b[1mroot@\u001b[0m\u001b[31m\u001b[1m9d270e984002\u001b[0m \n",
      "\u001b[43C\u001b[0m-----------------\u001b[0m \n",
      "\u001b[43C\u001b[0m\u001b[31m\u001b[1mOS\u001b[0m\u001b[0m:\u001b[0m Ubuntu 18.04.5 LTS x86_64\u001b[0m \n",
      "\u001b[43C\u001b[0m\u001b[31m\u001b[1mHost\u001b[0m\u001b[0m:\u001b[0m Google Compute Engine\u001b[0m \n",
      "\u001b[43C\u001b[0m\u001b[31m\u001b[1mKernel\u001b[0m\u001b[0m:\u001b[0m 4.19.112+\u001b[0m \n",
      "\u001b[43C\u001b[0m\u001b[31m\u001b[1mUptime\u001b[0m\u001b[0m:\u001b[0m 1 min\u001b[0m \n",
      "\u001b[43C\u001b[0m\u001b[31m\u001b[1mPackages\u001b[0m\u001b[0m:\u001b[0m 1232\u001b[0m \n",
      "\u001b[43C\u001b[0m\u001b[31m\u001b[1mShell\u001b[0m\u001b[0m:\u001b[0m bash 4.4.20\u001b[0m \n",
      "\u001b[43C\u001b[0m\u001b[31m\u001b[1mTerminal\u001b[0m\u001b[0m:\u001b[0m jupyter-noteboo\u001b[0m \n",
      "\u001b[43C\u001b[0m\u001b[31m\u001b[1mCPU\u001b[0m\u001b[0m:\u001b[0m Intel Xeon (2) @ 2.300GHz\u001b[0m \n",
      "\u001b[43C\u001b[0m\u001b[31m\u001b[1mMemory\u001b[0m\u001b[0m:\u001b[0m 544MiB / 13021MiB\u001b[0m \n",
      "\n",
      "\u001b[43C\u001b[0m\u001b[30m\u001b[40m   \u001b[0m\u001b[31m\u001b[41m   \u001b[0m\u001b[32m\u001b[42m   \u001b[0m\u001b[33m\u001b[43m   \u001b[0m\u001b[34m\u001b[44m   \u001b[0m\u001b[35m\u001b[45m   \u001b[0m\u001b[36m\u001b[46m   \u001b[0m\u001b[37m\u001b[47m   \u001b[0m\n",
      "\n",
      "\n",
      "\u001b[6B\u001b[?25h\u001b[?7h"
     ]
    }
   ],
   "source": [
    "!sudo apt-get install neofetch\n",
    "!neofetch"
   ]
  },
  {
   "cell_type": "code",
   "execution_count": 3,
   "metadata": {
    "colab": {
     "base_uri": "https://localhost:8080/"
    },
    "id": "f6GzpbLXp11C",
    "outputId": "bf0264af-a8c9-4ce9-ce20-0ae20ce894fd"
   },
   "outputs": [
    {
     "name": "stdout",
     "output_type": "stream",
     "text": [
      "Mon Nov  9 15:38:02 2020       \n",
      "+-----------------------------------------------------------------------------+\n",
      "| NVIDIA-SMI 455.32.00    Driver Version: 418.67       CUDA Version: 10.1     |\n",
      "|-------------------------------+----------------------+----------------------+\n",
      "| GPU  Name        Persistence-M| Bus-Id        Disp.A | Volatile Uncorr. ECC |\n",
      "| Fan  Temp  Perf  Pwr:Usage/Cap|         Memory-Usage | GPU-Util  Compute M. |\n",
      "|                               |                      |               MIG M. |\n",
      "|===============================+======================+======================|\n",
      "|   0  Tesla P4            Off  | 00000000:00:04.0 Off |                    0 |\n",
      "| N/A   48C    P8     8W /  75W |      0MiB /  7611MiB |      0%      Default |\n",
      "|                               |                      |                 ERR! |\n",
      "+-------------------------------+----------------------+----------------------+\n",
      "                                                                               \n",
      "+-----------------------------------------------------------------------------+\n",
      "| Processes:                                                                  |\n",
      "|  GPU   GI   CI        PID   Type   Process name                  GPU Memory |\n",
      "|        ID   ID                                                   Usage      |\n",
      "|=============================================================================|\n",
      "|  No running processes found                                                 |\n",
      "+-----------------------------------------------------------------------------+\n"
     ]
    }
   ],
   "source": [
    "!nvidia-smi"
   ]
  },
  {
   "cell_type": "code",
   "execution_count": 4,
   "metadata": {
    "colab": {
     "base_uri": "https://localhost:8080/"
    },
    "id": "vLCJzvpLqDGX",
    "outputId": "15fe1f1b-533d-4240-ead1-71b596271350"
   },
   "outputs": [
    {
     "name": "stdout",
     "output_type": "stream",
     "text": [
      "processor\t: 0\n",
      "vendor_id\t: GenuineIntel\n",
      "cpu family\t: 6\n",
      "model\t\t: 63\n",
      "model name\t: Intel(R) Xeon(R) CPU @ 2.30GHz\n",
      "stepping\t: 0\n",
      "microcode\t: 0x1\n",
      "cpu MHz\t\t: 2300.000\n",
      "cache size\t: 46080 KB\n",
      "physical id\t: 0\n",
      "siblings\t: 2\n",
      "core id\t\t: 0\n",
      "cpu cores\t: 1\n",
      "apicid\t\t: 0\n",
      "initial apicid\t: 0\n",
      "fpu\t\t: yes\n",
      "fpu_exception\t: yes\n",
      "cpuid level\t: 13\n",
      "wp\t\t: yes\n",
      "flags\t\t: fpu vme de pse tsc msr pae mce cx8 apic sep mtrr pge mca cmov pat pse36 clflush mmx fxsr sse sse2 ss ht syscall nx pdpe1gb rdtscp lm constant_tsc rep_good nopl xtopology nonstop_tsc cpuid tsc_known_freq pni pclmulqdq ssse3 fma cx16 pcid sse4_1 sse4_2 x2apic movbe popcnt aes xsave avx f16c rdrand hypervisor lahf_lm abm invpcid_single ssbd ibrs ibpb stibp fsgsbase tsc_adjust bmi1 avx2 smep bmi2 erms invpcid xsaveopt arat md_clear arch_capabilities\n",
      "bugs\t\t: cpu_meltdown spectre_v1 spectre_v2 spec_store_bypass l1tf mds swapgs\n",
      "bogomips\t: 4600.00\n",
      "clflush size\t: 64\n",
      "cache_alignment\t: 64\n",
      "address sizes\t: 46 bits physical, 48 bits virtual\n",
      "power management:\n",
      "\n",
      "processor\t: 1\n",
      "vendor_id\t: GenuineIntel\n",
      "cpu family\t: 6\n",
      "model\t\t: 63\n",
      "model name\t: Intel(R) Xeon(R) CPU @ 2.30GHz\n",
      "stepping\t: 0\n",
      "microcode\t: 0x1\n",
      "cpu MHz\t\t: 2300.000\n",
      "cache size\t: 46080 KB\n",
      "physical id\t: 0\n",
      "siblings\t: 2\n",
      "core id\t\t: 0\n",
      "cpu cores\t: 1\n",
      "apicid\t\t: 1\n",
      "initial apicid\t: 1\n",
      "fpu\t\t: yes\n",
      "fpu_exception\t: yes\n",
      "cpuid level\t: 13\n",
      "wp\t\t: yes\n",
      "flags\t\t: fpu vme de pse tsc msr pae mce cx8 apic sep mtrr pge mca cmov pat pse36 clflush mmx fxsr sse sse2 ss ht syscall nx pdpe1gb rdtscp lm constant_tsc rep_good nopl xtopology nonstop_tsc cpuid tsc_known_freq pni pclmulqdq ssse3 fma cx16 pcid sse4_1 sse4_2 x2apic movbe popcnt aes xsave avx f16c rdrand hypervisor lahf_lm abm invpcid_single ssbd ibrs ibpb stibp fsgsbase tsc_adjust bmi1 avx2 smep bmi2 erms invpcid xsaveopt arat md_clear arch_capabilities\n",
      "bugs\t\t: cpu_meltdown spectre_v1 spectre_v2 spec_store_bypass l1tf mds swapgs\n",
      "bogomips\t: 4600.00\n",
      "clflush size\t: 64\n",
      "cache_alignment\t: 64\n",
      "address sizes\t: 46 bits physical, 48 bits virtual\n",
      "power management:\n",
      "\n"
     ]
    }
   ],
   "source": [
    "!cat /proc/cpuinfo"
   ]
  },
  {
   "cell_type": "markdown",
   "metadata": {
    "id": "Xn2UozyhqIP0"
   },
   "source": [
    "## Test 1"
   ]
  },
  {
   "cell_type": "code",
   "execution_count": 5,
   "metadata": {
    "id": "JBkUIkMgqFZ-"
   },
   "outputs": [],
   "source": [
    "import time, torch\n",
    "\n",
    "bas = time.time()\n",
    "\n",
    "a = torch.rand(10000, 10000, device=torch.device(\"cuda\"))\n",
    "b = torch.rand(10000, 10000, device=torch.device(\"cuda\"))\n",
    "c = torch.rand(10000, 10000, device=torch.device(\"cuda\"))\n",
    "d = torch.rand(10000, 10000, device=torch.device(\"cuda\"))\n",
    "\n",
    "\n",
    "for i in range(0,1000):\n",
    "  y = a@b\n",
    "  z = c@d\n",
    "\n",
    "  x = y@z\n",
    "\n",
    "son = time.time()"
   ]
  },
  {
   "cell_type": "code",
   "execution_count": 6,
   "metadata": {
    "colab": {
     "base_uri": "https://localhost:8080/"
    },
    "id": "jJJUgJsmqKuA",
    "outputId": "7cabe932-a911-4636-9594-6d76a5ec5f72"
   },
   "outputs": [
    {
     "data": {
      "text/plain": [
       "tensor([[6.2079e+10, 6.1564e+10, 6.1465e+10,  ..., 6.1224e+10, 6.2216e+10,\n",
       "         6.2389e+10],\n",
       "        [6.2956e+10, 6.2433e+10, 6.2333e+10,  ..., 6.2088e+10, 6.3094e+10,\n",
       "         6.3269e+10],\n",
       "        [6.2527e+10, 6.2008e+10, 6.1909e+10,  ..., 6.1666e+10, 6.2665e+10,\n",
       "         6.2839e+10],\n",
       "        ...,\n",
       "        [6.3534e+10, 6.3007e+10, 6.2906e+10,  ..., 6.2659e+10, 6.3674e+10,\n",
       "         6.3851e+10],\n",
       "        [6.3003e+10, 6.2480e+10, 6.2380e+10,  ..., 6.2135e+10, 6.3142e+10,\n",
       "         6.3317e+10],\n",
       "        [6.2310e+10, 6.1792e+10, 6.1693e+10,  ..., 6.1451e+10, 6.2447e+10,\n",
       "         6.2620e+10]], device='cuda:0')"
      ]
     },
     "execution_count": 6,
     "metadata": {
      "tags": []
     },
     "output_type": "execute_result"
    }
   ],
   "source": [
    "x"
   ]
  },
  {
   "cell_type": "code",
   "execution_count": 7,
   "metadata": {
    "colab": {
     "base_uri": "https://localhost:8080/",
     "height": 35
    },
    "id": "HhDYxmMwwZiJ",
    "outputId": "f405c04d-2be6-4968-ed2a-fd936d12a6b7"
   },
   "outputs": [
    {
     "data": {
      "application/vnd.google.colaboratory.intrinsic+json": {
       "type": "string"
      },
      "text/plain": [
       "'1.test result (second) : 1071.427838563919'"
      ]
     },
     "execution_count": 7,
     "metadata": {
      "tags": []
     },
     "output_type": "execute_result"
    }
   ],
   "source": [
    "\"1.test result (second) : \" + str(son-bas)"
   ]
  },
  {
   "cell_type": "code",
   "execution_count": 8,
   "metadata": {
    "colab": {
     "base_uri": "https://localhost:8080/"
    },
    "id": "so9Le_Dgwb-k",
    "outputId": "e829f346-7a2e-4fd0-8879-df6e92ab0d09"
   },
   "outputs": [
    {
     "name": "stdout",
     "output_type": "stream",
     "text": [
      "nvcc: NVIDIA (R) Cuda compiler driver\n",
      "Copyright (c) 2005-2019 NVIDIA Corporation\n",
      "Built on Sun_Jul_28_19:07:16_PDT_2019\n",
      "Cuda compilation tools, release 10.1, V10.1.243\n"
     ]
    }
   ],
   "source": [
    "!nvcc --version"
   ]
  },
  {
   "cell_type": "code",
   "execution_count": 9,
   "metadata": {
    "colab": {
     "base_uri": "https://localhost:8080/"
    },
    "id": "Gc7ZAQ6Iwe0H",
    "outputId": "3032db65-7e1f-4f12-d0e2-afc70f70fb89"
   },
   "outputs": [
    {
     "name": "stdout",
     "output_type": "stream",
     "text": [
      "Collecting git+git://github.com/andreinechaev/nvcc4jupyter.git\n",
      "  Cloning git://github.com/andreinechaev/nvcc4jupyter.git to /tmp/pip-req-build-g25m6mg7\n",
      "  Running command git clone -q git://github.com/andreinechaev/nvcc4jupyter.git /tmp/pip-req-build-g25m6mg7\n",
      "Building wheels for collected packages: NVCCPlugin\n",
      "  Building wheel for NVCCPlugin (setup.py) ... \u001b[?25l\u001b[?25hdone\n",
      "  Created wheel for NVCCPlugin: filename=NVCCPlugin-0.0.2-cp36-none-any.whl size=4307 sha256=3d29f17033659522793af3e9f128bcb0241b338e112bdc554f453870e7a24758\n",
      "  Stored in directory: /tmp/pip-ephem-wheel-cache-8pk7o_or/wheels/10/c2/05/ca241da37bff77d60d31a9174f988109c61ba989e4d4650516\n",
      "Successfully built NVCCPlugin\n",
      "Installing collected packages: NVCCPlugin\n",
      "Successfully installed NVCCPlugin-0.0.2\n",
      "created output directory at /content/src\n",
      "Out bin /content/result.out\n"
     ]
    }
   ],
   "source": [
    "!pip install git+git://github.com/andreinechaev/nvcc4jupyter.git\n",
    "%load_ext nvcc_plugin"
   ]
  },
  {
   "cell_type": "code",
   "execution_count": 10,
   "metadata": {
    "colab": {
     "base_uri": "https://localhost:8080/"
    },
    "id": "1rBjOSYawhCp",
    "outputId": "4a9f3670-d1f3-4945-dcf3-cd73c65dc5b1"
   },
   "outputs": [
    {
     "name": "stdout",
     "output_type": "stream",
     "text": [
      "--2020-11-09 16:06:25--  https://ahmetfurkandemir.s3.amazonaws.com/kernel.cu\n",
      "Resolving ahmetfurkandemir.s3.amazonaws.com (ahmetfurkandemir.s3.amazonaws.com)... 52.217.104.52\n",
      "Connecting to ahmetfurkandemir.s3.amazonaws.com (ahmetfurkandemir.s3.amazonaws.com)|52.217.104.52|:443... connected.\n",
      "HTTP request sent, awaiting response... 200 OK\n",
      "Length: 1155 (1.1K) [application/cu-seeme]\n",
      "Saving to: ‘kernel.cu’\n",
      "\n",
      "kernel.cu           100%[===================>]   1.13K  --.-KB/s    in 0s      \n",
      "\n",
      "2020-11-09 16:06:26 (75.4 MB/s) - ‘kernel.cu’ saved [1155/1155]\n",
      "\n"
     ]
    }
   ],
   "source": [
    "!wget https://ahmetfurkandemir.s3.amazonaws.com/kernel.cu"
   ]
  },
  {
   "cell_type": "code",
   "execution_count": 12,
   "metadata": {
    "colab": {
     "base_uri": "https://localhost:8080/"
    },
    "id": "8_pXHG7Mwi3w",
    "outputId": "79c0928f-c668-40ce-b890-120a7808cfcf"
   },
   "outputs": [
    {
     "name": "stdout",
     "output_type": "stream",
     "text": [
      "#include <math.h>\n",
      "#include <iostream>\n",
      "#include \"cuda_runtime.h\"\n",
      "#include \"kernel.h\"\n",
      "#include <stdlib.h>\n",
      "\n",
      "using namespace std;\n",
      "\n",
      "__global__ void matrixMultiplicationKernel(float* A, float* B, float* C, int N) {\n",
      "\n",
      "    int ROW = blockIdx.y*blockDim.y+threadIdx.y;\n",
      "    int COL = blockIdx.x*blockDim.x+threadIdx.x;\n",
      "\n",
      "    float tmpSum = 0;\n",
      "\n",
      "    if (ROW < N && COL < N) {\n",
      "        // each thread computes one element of the block sub-matrix\n",
      "        for (int i = 0; i < N; i++) {\n",
      "            tmpSum += A[ROW * N + i] * B[i * N + COL];\n",
      "        }\n",
      "    }\n",
      "    C[ROW * N + COL] = tmpSum;\n",
      "}\n",
      "\n",
      "\n",
      "void matrixMultiplication(float *A, float *B, float *C, int N){\n",
      "\n",
      "    // declare the number of blocks per grid and the number of threads per block\n",
      "    // use 1 to 512 threads per block\n",
      "    dim3 threadsPerBlock(N, N);\n",
      "    dim3 blocksPerGrid(1, 1);\n",
      "        if (N*N > 512){\n",
      "            threadsPerBlock.x = 512;\n",
      "            threadsPerBlock.y = 512;\n",
      "            blocksPerGrid.x = ceil(double(N)/double(threadsPerBlock.x));\n",
      "            blocksPerGrid.y = ceil(double(N)/double(threadsPerBlock.y));\n",
      "        }\n",
      "\n",
      "    matrixMultiplicationKernel<<<blocksPerGrid,threadsPerBlock>>>(A, B, C, N);\n",
      "}"
     ]
    }
   ],
   "source": [
    "!cat kernel.cu"
   ]
  },
  {
   "cell_type": "code",
   "execution_count": 13,
   "metadata": {
    "colab": {
     "base_uri": "https://localhost:8080/"
    },
    "id": "z0IU8BnHwkzW",
    "outputId": "911e46f2-acfe-41c0-c41b-044e1f158e93"
   },
   "outputs": [
    {
     "name": "stdout",
     "output_type": "stream",
     "text": [
      "--2020-11-09 16:09:23--  https://ahmetfurkandemir.s3.amazonaws.com/dev_array.h\n",
      "Resolving ahmetfurkandemir.s3.amazonaws.com (ahmetfurkandemir.s3.amazonaws.com)... 52.216.162.51\n",
      "Connecting to ahmetfurkandemir.s3.amazonaws.com (ahmetfurkandemir.s3.amazonaws.com)|52.216.162.51|:443... connected.\n",
      "HTTP request sent, awaiting response... 200 OK\n",
      "Length: 1997 (2.0K) [text/x-chdr]\n",
      "Saving to: ‘dev_array.h’\n",
      "\n",
      "\r",
      "dev_array.h           0%[                    ]       0  --.-KB/s               \r",
      "dev_array.h         100%[===================>]   1.95K  --.-KB/s    in 0s      \n",
      "\n",
      "2020-11-09 16:09:24 (121 MB/s) - ‘dev_array.h’ saved [1997/1997]\n",
      "\n"
     ]
    }
   ],
   "source": [
    "!wget https://ahmetfurkandemir.s3.amazonaws.com/dev_array.h"
   ]
  },
  {
   "cell_type": "code",
   "execution_count": 14,
   "metadata": {
    "colab": {
     "base_uri": "https://localhost:8080/"
    },
    "id": "80fIckayxOU4",
    "outputId": "d8aa4484-5c73-495c-f8fb-c6f375562a23"
   },
   "outputs": [
    {
     "name": "stdout",
     "output_type": "stream",
     "text": [
      "#ifndef _DEV_ARRAY_H_\n",
      "#define _DEV_ARRAY_H_\n",
      "\n",
      "#include <stdexcept>\n",
      "#include <algorithm>\n",
      "#include <cuda_runtime.h>\n",
      "\n",
      "template <class T>\n",
      "class dev_array\n",
      "{\n",
      "// public functions\n",
      "public:\n",
      "    explicit dev_array()\n",
      "        : start_(0),\n",
      "          end_(0)\n",
      "    {}\n",
      "\n",
      "    // constructor\n",
      "    explicit dev_array(size_t size)\n",
      "    {\n",
      "        allocate(size);\n",
      "    }\n",
      "    // destructor\n",
      "    ~dev_array()\n",
      "    {\n",
      "        free();\n",
      "    }\n",
      "\n",
      "    // resize the vector\n",
      "    void resize(size_t size)\n",
      "    {\n",
      "        free();\n",
      "        allocate(size);\n",
      "    }\n",
      "\n",
      "    // get the size of the array\n",
      "    size_t getSize() const\n",
      "    {\n",
      "        return end_ - start_;\n",
      "    }\n",
      "\n",
      "    // get data\n",
      "    const T* getData() const\n",
      "    {\n",
      "        return start_;\n",
      "    }\n",
      "\n",
      "    T* getData()\n",
      "    {\n",
      "        return start_;\n",
      "    }\n",
      "\n",
      "    // set\n",
      "    void set(const T* src, size_t size)\n",
      "    {\n",
      "        size_t min = std::min(size, getSize());\n",
      "        cudaError_t result = cudaMemcpy(start_, src, min * sizeof(T), cudaMemcpyHostToDevice);\n",
      "        if (result != cudaSuccess)\n",
      "        {\n",
      "            throw std::runtime_error(\"failed to copy to device memory\");\n",
      "        }\n",
      "    }\n",
      "    // get\n",
      "    void get(T* dest, size_t size)\n",
      "    {\n",
      "        size_t min = std::min(size, getSize());\n",
      "        cudaError_t result = cudaMemcpy(dest, start_, min * sizeof(T), cudaMemcpyDeviceToHost);\n",
      "        if (result != cudaSuccess)\n",
      "        {\n",
      "            throw std::runtime_error(\"failed to copy to host memory\");\n",
      "        }\n",
      "    }\n",
      "\n",
      "\n",
      "// private functions\n",
      "private:\n",
      "    // allocate memory on the device\n",
      "    void allocate(size_t size)\n",
      "    {\n",
      "        cudaError_t result = cudaMalloc((void**)&start_, size * sizeof(T));\n",
      "        if (result != cudaSuccess)\n",
      "        {\n",
      "            start_ = end_ = 0;\n",
      "            throw std::runtime_error(\"failed to allocate device memory\");\n",
      "        }\n",
      "        end_ = start_ + size;\n",
      "    }\n",
      "\n",
      "    // free memory on the device\n",
      "    void free()\n",
      "    {\n",
      "        if (start_ != 0)\n",
      "        {\n",
      "            cudaFree(start_);\n",
      "            start_ = end_ = 0;\n",
      "        }\n",
      "    }\n",
      "\n",
      "    T* start_;\n",
      "    T* end_;\n",
      "};\n",
      "\n",
      "#endif"
     ]
    }
   ],
   "source": [
    "!cat dev_array.h"
   ]
  },
  {
   "cell_type": "code",
   "execution_count": 15,
   "metadata": {
    "colab": {
     "base_uri": "https://localhost:8080/"
    },
    "id": "6wAvJBs6xSGF",
    "outputId": "a26b7f4d-ee81-4d9a-ed65-08a185f3a773"
   },
   "outputs": [
    {
     "name": "stdout",
     "output_type": "stream",
     "text": [
      "--2020-11-09 16:10:55--  https://ahmetfurkandemir.s3.amazonaws.com/kernel.h\n",
      "Resolving ahmetfurkandemir.s3.amazonaws.com (ahmetfurkandemir.s3.amazonaws.com)... 52.216.177.203\n",
      "Connecting to ahmetfurkandemir.s3.amazonaws.com (ahmetfurkandemir.s3.amazonaws.com)|52.216.177.203|:443... connected.\n",
      "HTTP request sent, awaiting response... 200 OK\n",
      "Length: 112 [text/x-chdr]\n",
      "Saving to: ‘kernel.h’\n",
      "\n",
      "\r",
      "kernel.h              0%[                    ]       0  --.-KB/s               \r",
      "kernel.h            100%[===================>]     112  --.-KB/s    in 0s      \n",
      "\n",
      "2020-11-09 16:10:55 (3.30 MB/s) - ‘kernel.h’ saved [112/112]\n",
      "\n"
     ]
    }
   ],
   "source": [
    "!wget https://ahmetfurkandemir.s3.amazonaws.com/kernel.h"
   ]
  },
  {
   "cell_type": "code",
   "execution_count": 16,
   "metadata": {
    "colab": {
     "base_uri": "https://localhost:8080/"
    },
    "id": "55JQWI7kxksk",
    "outputId": "d64c1b68-ddb3-4a08-c103-555326c80f35"
   },
   "outputs": [
    {
     "name": "stdout",
     "output_type": "stream",
     "text": [
      "#ifndef KERNEL_CUH_\n",
      "#define KERNEL_CUH_\n",
      "\n",
      "void matrixMultiplication(float *A, float *B, float *C, int N);\n",
      "\n",
      "#endif"
     ]
    }
   ],
   "source": [
    "!cat kernel.h"
   ]
  },
  {
   "cell_type": "code",
   "execution_count": 17,
   "metadata": {
    "colab": {
     "base_uri": "https://localhost:8080/"
    },
    "id": "Tpvgcvy-xm8_",
    "outputId": "35098e84-648a-4f4f-a96e-55ca3cbc1dad"
   },
   "outputs": [
    {
     "name": "stdout",
     "output_type": "stream",
     "text": [
      "--2020-11-09 16:11:13--  https://ahmetfurkandemir.s3.amazonaws.com/matrixmul.cu\n",
      "Resolving ahmetfurkandemir.s3.amazonaws.com (ahmetfurkandemir.s3.amazonaws.com)... 52.217.72.28\n",
      "Connecting to ahmetfurkandemir.s3.amazonaws.com (ahmetfurkandemir.s3.amazonaws.com)|52.217.72.28|:443... connected.\n",
      "HTTP request sent, awaiting response... 200 OK\n",
      "Length: 1060 (1.0K) [application/cu-seeme]\n",
      "Saving to: ‘matrixmul.cu’\n",
      "\n",
      "\r",
      "matrixmul.cu          0%[                    ]       0  --.-KB/s               \r",
      "matrixmul.cu        100%[===================>]   1.04K  --.-KB/s    in 0s      \n",
      "\n",
      "2020-11-09 16:11:14 (67.0 MB/s) - ‘matrixmul.cu’ saved [1060/1060]\n",
      "\n"
     ]
    }
   ],
   "source": [
    "!wget https://ahmetfurkandemir.s3.amazonaws.com/matrixmul.cu"
   ]
  },
  {
   "cell_type": "code",
   "execution_count": 18,
   "metadata": {
    "colab": {
     "base_uri": "https://localhost:8080/"
    },
    "id": "qjidrPBQxpL1",
    "outputId": "06a4172d-822a-4b29-ae7e-3ca4798fcca4"
   },
   "outputs": [
    {
     "name": "stdout",
     "output_type": "stream",
     "text": [
      "#include <iostream>\n",
      "#include <vector>\n",
      "#include <stdlib.h>\n",
      "#include <time.h>\n",
      "#include <cuda_runtime.h>\n",
      "#include \"kernel.h\"\n",
      "#include \"kernel.cu\"\n",
      "#include \"dev_array.h\"\n",
      "#include <math.h>\n",
      "#include <stdio.h>\n",
      "\n",
      "using namespace std;\n",
      "\n",
      "int main()\n",
      "{\n",
      "    // Perform matrix multiplication C = A*B\n",
      "    // where A, B and C are NxN matrices\n",
      "    int N = 10000;\n",
      "    int SIZE = N*N;\n",
      "\n",
      "    // Allocate memory on the host\n",
      "    vector<float> h_A(SIZE);\n",
      "    vector<float> h_B(SIZE);\n",
      "    vector<float> h_C(SIZE);\n",
      "\n",
      "    // Initialize matrices on the host\n",
      "    for (int i=0; i<N; i++){\n",
      "        for (int j=0; j<N; j++){\n",
      "            h_A[i*N+j] = sin(i);\n",
      "            h_B[i*N+j] = cos(j);\n",
      "        }\n",
      "    }\n",
      "\n",
      "    // Allocate memory on the device\n",
      "    dev_array<float> d_A(SIZE);\n",
      "    dev_array<float> d_B(SIZE);\n",
      "    dev_array<float> d_C(SIZE);\n",
      "\n",
      "    d_A.set(&h_A[0], SIZE);\n",
      "    d_B.set(&h_B[0], SIZE);\n",
      "\n",
      "    matrixMultiplication(d_A.getData(), d_B.getData(), d_C.getData(), N);\n",
      "    cudaDeviceSynchronize();\n",
      "\n",
      "    d_C.get(&h_C[0], SIZE);\n",
      "    cudaDeviceSynchronize();\n",
      "\n",
      "    printf(\"END\");\n",
      "\n",
      "    return 0;\n",
      "}"
     ]
    }
   ],
   "source": [
    "!cat matrixmul.cu"
   ]
  },
  {
   "cell_type": "code",
   "execution_count": 19,
   "metadata": {
    "id": "oN0h99tNxre7"
   },
   "outputs": [],
   "source": [
    "# compilation test\n",
    "bas = time.time()\n",
    "!nvcc matrixmul.cu\n",
    "son = time.time()"
   ]
  },
  {
   "cell_type": "code",
   "execution_count": 21,
   "metadata": {
    "colab": {
     "base_uri": "https://localhost:8080/",
     "height": 35
    },
    "id": "B1WTqRBWxtUV",
    "outputId": "c9767aaf-cf39-4199-8812-fcecadd2a6fc"
   },
   "outputs": [
    {
     "data": {
      "application/vnd.google.colaboratory.intrinsic+json": {
       "type": "string"
      },
      "text/plain": [
       "'2. test - compilation test result : 2.9613592624664307'"
      ]
     },
     "execution_count": 21,
     "metadata": {
      "tags": []
     },
     "output_type": "execute_result"
    }
   ],
   "source": [
    "\"2. test - compilation test result : \" + str(son-bas)"
   ]
  },
  {
   "cell_type": "code",
   "execution_count": 22,
   "metadata": {
    "colab": {
     "base_uri": "https://localhost:8080/"
    },
    "id": "PjR685eExvWN",
    "outputId": "ccff65ea-6f58-4350-ca9e-c79267408aab"
   },
   "outputs": [
    {
     "name": "stdout",
     "output_type": "stream",
     "text": [
      "END"
     ]
    }
   ],
   "source": [
    "# run the compiled file, test\n",
    "bas = time.time()\n",
    "!./a.out\n",
    "son = time.time()"
   ]
  },
  {
   "cell_type": "code",
   "execution_count": 23,
   "metadata": {
    "colab": {
     "base_uri": "https://localhost:8080/",
     "height": 35
    },
    "id": "zoDEF4oixy3K",
    "outputId": "a086d0a7-d64b-4e28-c4b3-1c138190947f"
   },
   "outputs": [
    {
     "data": {
      "application/vnd.google.colaboratory.intrinsic+json": {
       "type": "string"
      },
      "text/plain": [
       "'2. test - time to run the compiled file : 8.686630487442017'"
      ]
     },
     "execution_count": 23,
     "metadata": {
      "tags": []
     },
     "output_type": "execute_result"
    }
   ],
   "source": [
    "\"2. test - time to run the compiled file : \"+str(son-bas)"
   ]
  },
  {
   "cell_type": "markdown",
   "metadata": {
    "id": "yNRc4UIZyWhf"
   },
   "source": [
    "**1. Test Result : 1071.427838563919 (second)**\n",
    "\n",
    "**2. Test Reult - Compile : 2.9613592624664307 (second)**\n",
    "\n",
    "**2. Test Reult - run file : 8.686630487442017 (second)**"
   ]
  }
 ],
 "metadata": {
  "accelerator": "GPU",
  "colab": {
   "name": "Tesla_P4.ipynb",
   "provenance": []
  },
  "kernelspec": {
   "display_name": "Python 3",
   "language": "python",
   "name": "python3"
  },
  "language_info": {
   "codemirror_mode": {
    "name": "ipython",
    "version": 3
   },
   "file_extension": ".py",
   "mimetype": "text/x-python",
   "name": "python",
   "nbconvert_exporter": "python",
   "pygments_lexer": "ipython3",
   "version": "3.7.3"
  }
 },
 "nbformat": 4,
 "nbformat_minor": 1
}
